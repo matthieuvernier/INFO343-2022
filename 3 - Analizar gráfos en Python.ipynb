{
 "cells": [
  {
   "cell_type": "markdown",
   "id": "032bdd19",
   "metadata": {},
   "source": [
    "# Analizar gráfos en Python"
   ]
  },
  {
   "cell_type": "markdown",
   "id": "913b62c5",
   "metadata": {},
   "source": [
    "Este notebook muestra métodos estándares para analizar gráfos a través de la librería NetworkX https://networkx.org.\n",
    "    "
   ]
  },
  {
   "cell_type": "markdown",
   "id": "09c183d5",
   "metadata": {},
   "source": [
    "## 0. Algunos recordatorios sobre Teoría de gráfos\n",
    "\n",
    "- analizar estructuras sociales, difusión de información, interacciones, influencias, etc. (cualquier fenómeno que se puede representar como gŕafo...)\n",
    "\n",
    "- **conceptos**: nodo (_node_) y arista (_edge_)"
   ]
  },
  {
   "cell_type": "markdown",
   "id": "0af6a93a",
   "metadata": {},
   "source": [
    "<img src=\"grafo1.png\">"
   ]
  },
  {
   "cell_type": "markdown",
   "id": "0e0fd07e",
   "metadata": {},
   "source": [
    "- distintos **tipos de gráfo**:\n",
    "    - gráfo simple\n",
    "    - gráfo dirigido\n",
    "    - gráfo dirigido multi-aristas\n",
    "    - gráfo ponderado"
   ]
  },
  {
   "cell_type": "markdown",
   "id": "2988b5f3",
   "metadata": {},
   "source": [
    "<img src=\"grafo2.png\">"
   ]
  },
  {
   "cell_type": "markdown",
   "id": "0eef1d43",
   "metadata": {},
   "source": [
    "- ¿Por qué analizar gráfos?:\n",
    "    - métricas de **centralidad**: identificar cuáles son los nodos importantes\n",
    "    - métricas de **conectividad**: identificar cuáles los nodos importantes en relación con el peso y la dirección de sus aristas (gráfos dirigidos)\n",
    "    - métricas de **comunidad**: identificar cuáles son los sub-grupos (_clique_)\n",
    "    - métricas de **camino**: identificar distancias entre nodos\n",
    "    - etc."
   ]
  },
  {
   "cell_type": "code",
   "execution_count": 149,
   "id": "cd52fc36",
   "metadata": {},
   "outputs": [],
   "source": [
    "#!pip install networkx"
   ]
  },
  {
   "cell_type": "code",
   "execution_count": 150,
   "id": "8a4e2b37",
   "metadata": {},
   "outputs": [],
   "source": [
    "import networkx as nx"
   ]
  },
  {
   "cell_type": "markdown",
   "id": "f22c7808",
   "metadata": {},
   "source": [
    "## 1. Crear un gráfo simple"
   ]
  },
  {
   "cell_type": "code",
   "execution_count": 151,
   "id": "066d0cf8",
   "metadata": {},
   "outputs": [],
   "source": [
    "G = nx.Graph()\n",
    "\n",
    "#Borrar el gráfo\n",
    "G.clear()"
   ]
  },
  {
   "cell_type": "markdown",
   "id": "dd9bbc26",
   "metadata": {},
   "source": [
    "- Nodos"
   ]
  },
  {
   "cell_type": "code",
   "execution_count": 152,
   "id": "cfd783fb",
   "metadata": {},
   "outputs": [],
   "source": [
    "# Añadir un nodo\n",
    "G.add_node(1)\n",
    "\n",
    "# Añadir nodos desde una lista\n",
    "G.add_nodes_from([2, 3])\n",
    "\n",
    "# Añadir nodos con datos\n",
    "G.add_nodes_from([\n",
    "    (4, {\"color\": \"red\"}),\n",
    "    (5, {\"color\": \"green\"}),\n",
    "])\n",
    "\n",
    "G.add_node(6)"
   ]
  },
  {
   "cell_type": "markdown",
   "id": "8f61bfd0",
   "metadata": {},
   "source": [
    "- Aristas"
   ]
  },
  {
   "cell_type": "code",
   "execution_count": 153,
   "id": "69e7f626",
   "metadata": {},
   "outputs": [],
   "source": [
    "#Añadir una arista\n",
    "G.add_edge(1, 2)\n",
    "\n",
    "#Añadir varias aristas\n",
    "G.add_edges_from([(1, 3), (1, 4)])\n",
    "\n",
    "#Añadir aristas con datos\n",
    "G.add_edges_from([(2, 5, {'weight': 3.1415})])\n",
    "\n",
    "G.add_weighted_edges_from([(6,7,3)])"
   ]
  },
  {
   "cell_type": "markdown",
   "id": "c398797b",
   "metadata": {},
   "source": [
    "- Acceder a datos almacenados en nodos o aristas"
   ]
  },
  {
   "cell_type": "code",
   "execution_count": 154,
   "id": "5e21ccc8",
   "metadata": {},
   "outputs": [
    {
     "data": {
      "text/plain": [
       "{'color': 'red'}"
      ]
     },
     "execution_count": 154,
     "metadata": {},
     "output_type": "execute_result"
    }
   ],
   "source": [
    "G.nodes[4]"
   ]
  },
  {
   "cell_type": "code",
   "execution_count": 155,
   "id": "a8f9327b",
   "metadata": {},
   "outputs": [
    {
     "data": {
      "text/plain": [
       "'green'"
      ]
     },
     "execution_count": 155,
     "metadata": {},
     "output_type": "execute_result"
    }
   ],
   "source": [
    "G.nodes[5][\"color\"]"
   ]
  },
  {
   "cell_type": "code",
   "execution_count": 156,
   "id": "fbf3046e",
   "metadata": {},
   "outputs": [
    {
     "data": {
      "text/plain": [
       "{'weight': 3.1415}"
      ]
     },
     "execution_count": 156,
     "metadata": {},
     "output_type": "execute_result"
    }
   ],
   "source": [
    "G[2][5]"
   ]
  },
  {
   "cell_type": "code",
   "execution_count": 157,
   "id": "39a75388",
   "metadata": {},
   "outputs": [
    {
     "data": {
      "text/plain": [
       "3.1415"
      ]
     },
     "execution_count": 157,
     "metadata": {},
     "output_type": "execute_result"
    }
   ],
   "source": [
    "G[2][5][\"weight\"]"
   ]
  },
  {
   "cell_type": "code",
   "execution_count": 158,
   "id": "37ae53b2",
   "metadata": {},
   "outputs": [
    {
     "data": {
      "text/plain": [
       "3.1415"
      ]
     },
     "execution_count": 158,
     "metadata": {},
     "output_type": "execute_result"
    }
   ],
   "source": [
    "G.edges[2, 5]['weight']"
   ]
  },
  {
   "cell_type": "code",
   "execution_count": 159,
   "id": "6d5a3617",
   "metadata": {},
   "outputs": [],
   "source": [
    "G.edges[2, 5]['weight'] = 4.2"
   ]
  },
  {
   "cell_type": "code",
   "execution_count": 160,
   "id": "673e952d",
   "metadata": {},
   "outputs": [
    {
     "data": {
      "text/plain": [
       "4.2"
      ]
     },
     "execution_count": 160,
     "metadata": {},
     "output_type": "execute_result"
    }
   ],
   "source": [
    "G.edges[2, 5]['weight']"
   ]
  },
  {
   "cell_type": "code",
   "execution_count": 161,
   "id": "74cc5761",
   "metadata": {},
   "outputs": [
    {
     "data": {
      "text/plain": [
       "{'weight': 3}"
      ]
     },
     "execution_count": 161,
     "metadata": {},
     "output_type": "execute_result"
    }
   ],
   "source": [
    "G.edges[6,7]"
   ]
  },
  {
   "cell_type": "markdown",
   "id": "cafa93e5",
   "metadata": {},
   "source": [
    "- Ver los vecinos de un nodo"
   ]
  },
  {
   "cell_type": "code",
   "execution_count": 162,
   "id": "bd15f64e",
   "metadata": {},
   "outputs": [
    {
     "data": {
      "text/plain": [
       "AtlasView({1: {}, 5: {'weight': 4.2}})"
      ]
     },
     "execution_count": 162,
     "metadata": {},
     "output_type": "execute_result"
    }
   ],
   "source": [
    "G.adj[2]"
   ]
  },
  {
   "cell_type": "markdown",
   "id": "d7492fef",
   "metadata": {},
   "source": [
    "- Dibujar el gráfo"
   ]
  },
  {
   "cell_type": "code",
   "execution_count": 163,
   "id": "74c066d3",
   "metadata": {},
   "outputs": [],
   "source": [
    "import matplotlib.pyplot as plt"
   ]
  },
  {
   "cell_type": "code",
   "execution_count": 164,
   "id": "56715887",
   "metadata": {},
   "outputs": [
    {
     "data": {
      "image/png": "[encoded data removed]",
      "text/plain": [
       "<Figure size 432x288 with 1 Axes>"
      ]
     },
     "metadata": {},
     "output_type": "display_data"
    }
   ],
   "source": [
    "nx.draw(G, with_labels=True)"
   ]
  },
  {
   "cell_type": "markdown",
   "id": "2a8fe33c",
   "metadata": {},
   "source": [
    "## 2. Crear un gráfo dirigido"
   ]
  },
  {
   "cell_type": "code",
   "execution_count": 174,
   "id": "783d0976",
   "metadata": {},
   "outputs": [],
   "source": [
    "DG = nx.DiGraph()"
   ]
  },
  {
   "cell_type": "code",
   "execution_count": 175,
   "id": "a6c740bb",
   "metadata": {},
   "outputs": [],
   "source": [
    "G.add_nodes_from([\n",
    "    (1, {\"color\": \"red\"}),\n",
    "    (2, {\"color\": \"green\"}),\n",
    "    (3, {\"color\": \"green\"}),\n",
    "    (4, {\"color\": \"green\"}),\n",
    "])"
   ]
  },
  {
   "cell_type": "code",
   "execution_count": 176,
   "id": "dcebf0b9",
   "metadata": {},
   "outputs": [],
   "source": [
    "DG.add_weighted_edges_from([(1, 2, 0.5), (3, 1, 0.75), (4, 1, 0.5)])"
   ]
  },
  {
   "cell_type": "code",
   "execution_count": 177,
   "id": "5eda6607",
   "metadata": {},
   "outputs": [
    {
     "data": {
      "image/png": "[encoded data removed]",
      "text/plain": [
       "<Figure size 432x288 with 1 Axes>"
      ]
     },
     "metadata": {},
     "output_type": "display_data"
    }
   ],
   "source": [
    "nx.draw(DG, with_labels=True)"
   ]
  },
  {
   "cell_type": "code",
   "execution_count": 178,
   "id": "27165334",
   "metadata": {},
   "outputs": [
    {
     "data": {
      "image/png": "[encoded data removed]",
      "text/plain": [
       "<Figure size 1152x864 with 1 Axes>"
      ]
     },
     "metadata": {},
     "output_type": "display_data"
    }
   ],
   "source": [
    "fig, ax = plt.subplots(figsize=(16, 12))\n",
    "\n",
    "pos = nx.spring_layout(G, k=2)# Plot networks\n",
    "nx.draw_networkx(DG, pos,\n",
    "                 font_size=8,\n",
    "                 width=3,\n",
    "                 edge_color='grey',\n",
    "                 node_color='#00b4d9',\n",
    "                 with_labels = True,\n",
    "                 ax=ax)\n",
    "plt.show()"
   ]
  },
  {
   "cell_type": "markdown",
   "id": "c764005a",
   "metadata": {},
   "source": [
    "## 3. Métricas sobre el gráfo"
   ]
  },
  {
   "cell_type": "markdown",
   "id": "0d7fbdf4",
   "metadata": {},
   "source": [
    "- Nivel **Centralidad** de los nodos"
   ]
  },
  {
   "cell_type": "code",
   "execution_count": 179,
   "id": "cf9b107d",
   "metadata": {},
   "outputs": [
    {
     "data": {
      "text/plain": [
       "{1: 0.5,\n",
       " 2: 0.3333333333333333,\n",
       " 3: 0.16666666666666666,\n",
       " 4: 0.16666666666666666,\n",
       " 5: 0.16666666666666666,\n",
       " 6: 0.16666666666666666,\n",
       " 7: 0.16666666666666666}"
      ]
     },
     "execution_count": 179,
     "metadata": {},
     "output_type": "execute_result"
    }
   ],
   "source": [
    "nx.degree_centrality(G)"
   ]
  },
  {
   "cell_type": "code",
   "execution_count": 180,
   "id": "45d32f7f",
   "metadata": {},
   "outputs": [
    {
     "data": {
      "text/plain": [
       "{1: 0.6666666666666666, 2: 0.3333333333333333, 3: 0.0, 4: 0.0}"
      ]
     },
     "execution_count": 180,
     "metadata": {},
     "output_type": "execute_result"
    }
   ],
   "source": [
    "nx.in_degree_centrality(DG)"
   ]
  },
  {
   "cell_type": "code",
   "execution_count": 181,
   "id": "304f9efb",
   "metadata": {},
   "outputs": [
    {
     "data": {
      "text/plain": [
       "{1: 0.3333333333333333, 2: 0.0, 3: 0.3333333333333333, 4: 0.3333333333333333}"
      ]
     },
     "execution_count": 181,
     "metadata": {},
     "output_type": "execute_result"
    }
   ],
   "source": [
    "nx.out_degree_centrality(DG)"
   ]
  },
  {
   "cell_type": "code",
   "execution_count": 182,
   "id": "4a2ee4ef",
   "metadata": {},
   "outputs": [
    {
     "data": {
      "text/plain": [
       "{1: 0.6532814742567121,\n",
       " 2: 0.5000000150026442,\n",
       " 3: 0.3535533799372703,\n",
       " 4: 0.3535533799372703,\n",
       " 5: 0.270598069700722,\n",
       " 6: 8.198769419007958e-06,\n",
       " 7: 8.198769419007958e-06}"
      ]
     },
     "execution_count": 182,
     "metadata": {},
     "output_type": "execute_result"
    }
   ],
   "source": [
    "nx.eigenvector_centrality(G)"
   ]
  },
  {
   "cell_type": "code",
   "execution_count": 185,
   "id": "86e0eba1",
   "metadata": {},
   "outputs": [
    {
     "data": {
      "text/plain": [
       "{1: 0.5333333333333333,\n",
       " 2: 0.4444444444444444,\n",
       " 3: 0.3333333333333333,\n",
       " 4: 0.3333333333333333,\n",
       " 5: 0.2962962962962963,\n",
       " 6: 0.16666666666666666,\n",
       " 7: 0.16666666666666666}"
      ]
     },
     "execution_count": 185,
     "metadata": {},
     "output_type": "execute_result"
    }
   ],
   "source": [
    "nx.closeness_centrality(G)"
   ]
  },
  {
   "cell_type": "markdown",
   "id": "57218592",
   "metadata": {},
   "source": [
    "- Métricas de **Comunidad**"
   ]
  },
  {
   "cell_type": "code",
   "execution_count": 187,
   "id": "b453c3e7",
   "metadata": {},
   "outputs": [
    {
     "data": {
      "text/plain": [
       "[[1], [2], [3], [4], [5], [6], [7], [1, 2], [1, 3], [1, 4], [2, 5], [6, 7]]"
      ]
     },
     "execution_count": 187,
     "metadata": {},
     "output_type": "execute_result"
    }
   ],
   "source": [
    "list(nx.enumerate_all_cliques(G))"
   ]
  },
  {
   "cell_type": "markdown",
   "id": "53e087ab",
   "metadata": {},
   "source": [
    "- Métricas de Distancia"
   ]
  },
  {
   "cell_type": "code",
   "execution_count": 193,
   "id": "c960c7e1",
   "metadata": {},
   "outputs": [
    {
     "data": {
      "text/plain": [
       "{1: {1: [1], 2: [1, 2], 3: [1, 3], 4: [1, 4], 5: [1, 2, 5]},\n",
       " 2: {2: [2], 1: [2, 1], 5: [2, 5], 3: [2, 1, 3], 4: [2, 1, 4]},\n",
       " 3: {3: [3], 1: [3, 1], 2: [3, 1, 2], 4: [3, 1, 4], 5: [3, 1, 2, 5]},\n",
       " 4: {4: [4], 1: [4, 1], 2: [4, 1, 2], 3: [4, 1, 3], 5: [4, 1, 2, 5]},\n",
       " 5: {5: [5], 2: [5, 2], 1: [5, 2, 1], 3: [5, 2, 1, 3], 4: [5, 2, 1, 4]},\n",
       " 6: {6: [6], 7: [6, 7]},\n",
       " 7: {7: [7], 6: [7, 6]}}"
      ]
     },
     "execution_count": 193,
     "metadata": {},
     "output_type": "execute_result"
    }
   ],
   "source": [
    "nx.shortest_path(G)"
   ]
  },
  {
   "cell_type": "code",
   "execution_count": null,
   "id": "4185dd14",
   "metadata": {},
   "outputs": [],
   "source": []
  }
 ],
 "metadata": {
  "kernelspec": {
   "display_name": "Python 3 (ipykernel)",
   "language": "python",
   "name": "python3"
  },
  "language_info": {
   "codemirror_mode": {
    "name": "ipython",
    "version": 3
   },
   "file_extension": ".py",
   "mimetype": "text/x-python",
   "name": "python",
   "nbconvert_exporter": "python",
   "pygments_lexer": "ipython3",
   "version": "3.8.10"
  }
 },
 "nbformat": 4,
 "nbformat_minor": 5
}
