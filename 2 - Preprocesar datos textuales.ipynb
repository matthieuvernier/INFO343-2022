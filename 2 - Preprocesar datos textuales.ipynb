{
 "cells": [
  {
   "cell_type": "markdown",
   "id": "76fc153f",
   "metadata": {},
   "source": [
    "# Preprocesar datos textuales"
   ]
  },
  {
   "cell_type": "markdown",
   "id": "106117bd",
   "metadata": {},
   "source": [
    "Este notebook muestra métodos estándares de preprocesamiento de datos textuales a través de la librería spacy."
   ]
  },
  {
   "cell_type": "markdown",
   "id": "ee66c815",
   "metadata": {},
   "source": [
    "## 1. Cargar nuestro dataset en dataframe Pandas"
   ]
  },
  {
   "cell_type": "code",
   "execution_count": 1,
   "id": "20981c4a",
   "metadata": {},
   "outputs": [
    {
     "data": {
      "text/html": [
       "<div>\n",
       "<style scoped>\n",
       "    .dataframe tbody tr th:only-of-type {\n",
       "        vertical-align: middle;\n",
       "    }\n",
       "\n",
       "    .dataframe tbody tr th {\n",
       "        vertical-align: top;\n",
       "    }\n",
       "\n",
       "    .dataframe thead th {\n",
       "        text-align: right;\n",
       "    }\n",
       "</style>\n",
       "<table border=\"1\" class=\"dataframe\">\n",
       "  <thead>\n",
       "    <tr style=\"text-align: right;\">\n",
       "      <th></th>\n",
       "      <th>id_news</th>\n",
       "      <th>country</th>\n",
       "      <th>media_outlet</th>\n",
       "      <th>url</th>\n",
       "      <th>title</th>\n",
       "      <th>text</th>\n",
       "      <th>date</th>\n",
       "      <th>search</th>\n",
       "    </tr>\n",
       "  </thead>\n",
       "  <tbody>\n",
       "    <tr>\n",
       "      <th>0</th>\n",
       "      <td>17785718.0</td>\n",
       "      <td>chile</td>\n",
       "      <td>emol</td>\n",
       "      <td>https://www.emol.com/noticias/Autos/2021/02/24...</td>\n",
       "      <td>Estudio advierte que la contaminación acústica...</td>\n",
       "      <td>La prestigiosa revista estadounidense  The Atl...</td>\n",
       "      <td>2021-02-25</td>\n",
       "      <td>contaminación acústica</td>\n",
       "    </tr>\n",
       "    <tr>\n",
       "      <th>1</th>\n",
       "      <td>22416427.0</td>\n",
       "      <td>chile</td>\n",
       "      <td>laestrelladechiloe</td>\n",
       "      <td>https://www.laestrellachiloe.cl/impresa/2021/0...</td>\n",
       "      <td>La contaminación acústica</td>\n",
       "      <td>La contaminación acústica, según la Organizaci...</td>\n",
       "      <td>2021-06-15</td>\n",
       "      <td>contaminación acústica</td>\n",
       "    </tr>\n",
       "    <tr>\n",
       "      <th>2</th>\n",
       "      <td>261700.0</td>\n",
       "      <td>chile</td>\n",
       "      <td>biobiochile</td>\n",
       "      <td>https://www.biobiochile.cl/noticias/nacional/r...</td>\n",
       "      <td>Justicia ordena al municipio de Concepción fis...</td>\n",
       "      <td>La Municipalidad de Concepción deberá fiscaliz...</td>\n",
       "      <td>2020-07-02</td>\n",
       "      <td>contaminación acústica</td>\n",
       "    </tr>\n",
       "    <tr>\n",
       "      <th>3</th>\n",
       "      <td>22330373.0</td>\n",
       "      <td>chile</td>\n",
       "      <td>elllanquihue</td>\n",
       "      <td>https://www.ellanquihue.cl/impresa/2021/07/07/...</td>\n",
       "      <td>Contaminación acústica</td>\n",
       "      <td>La contaminación acústica, según la Organizaci...</td>\n",
       "      <td>2021-07-07</td>\n",
       "      <td>contaminación acústica</td>\n",
       "    </tr>\n",
       "    <tr>\n",
       "      <th>4</th>\n",
       "      <td>13871464.0</td>\n",
       "      <td>chile</td>\n",
       "      <td>emol</td>\n",
       "      <td>https://www.emol.com/noticias/Nacional/2018/11...</td>\n",
       "      <td>Los siete puntos estratégicos de Santiago que ...</td>\n",
       "      <td>SANTIAGO.- El  Ministerio del Medio Ambiente  ...</td>\n",
       "      <td>2018-11-21</td>\n",
       "      <td>contaminación acústica</td>\n",
       "    </tr>\n",
       "    <tr>\n",
       "      <th>...</th>\n",
       "      <td>...</td>\n",
       "      <td>...</td>\n",
       "      <td>...</td>\n",
       "      <td>...</td>\n",
       "      <td>...</td>\n",
       "      <td>...</td>\n",
       "      <td>...</td>\n",
       "      <td>...</td>\n",
       "    </tr>\n",
       "    <tr>\n",
       "      <th>83</th>\n",
       "      <td>22333632.0</td>\n",
       "      <td>chile</td>\n",
       "      <td>elllanquihue</td>\n",
       "      <td>https://www.ellanquihue.cl/impresa/2021/09/08/...</td>\n",
       "      <td>Vivir en La Vara: vecinos cuentan conflictos q...</td>\n",
       "      <td>Los habitantes de La Vara están cansados. Se s...</td>\n",
       "      <td>2021-09-08</td>\n",
       "      <td>contaminación acústica</td>\n",
       "    </tr>\n",
       "    <tr>\n",
       "      <th>84</th>\n",
       "      <td>22410052.0</td>\n",
       "      <td>chile</td>\n",
       "      <td>elllanquihue</td>\n",
       "      <td>https://www.ellanquihue.cl/impresa/2021/04/05/...</td>\n",
       "      <td>En Senda Sur y La Vara presionan para mejorar ...</td>\n",
       "      <td>Los ya cotidianos problemas que enfrentan los ...</td>\n",
       "      <td>2021-04-05</td>\n",
       "      <td>contaminación acústica</td>\n",
       "    </tr>\n",
       "    <tr>\n",
       "      <th>85</th>\n",
       "      <td>21960210.0</td>\n",
       "      <td>chile</td>\n",
       "      <td>elciudadano</td>\n",
       "      <td>https://www.elciudadano.com/chile/la-conservac...</td>\n",
       "      <td>La conservación del agua frente al antropocent...</td>\n",
       "      <td>Por Catalina Vergara (Antropocentrismo: del gr...</td>\n",
       "      <td>2020-12-22</td>\n",
       "      <td>contaminación acústica</td>\n",
       "    </tr>\n",
       "    <tr>\n",
       "      <th>86</th>\n",
       "      <td>3839185.0</td>\n",
       "      <td>chile</td>\n",
       "      <td>elmostrador</td>\n",
       "      <td>https://www.elmostrador.cl/cultura/destacados-...</td>\n",
       "      <td>Cuñado de Ricardo Lagos, el personaje detrás d...</td>\n",
       "      <td>Roberto Durán de la Fuente es el director de l...</td>\n",
       "      <td>2020-12-24</td>\n",
       "      <td>contaminación acústica</td>\n",
       "    </tr>\n",
       "    <tr>\n",
       "      <th>87</th>\n",
       "      <td>21956059.0</td>\n",
       "      <td>chile</td>\n",
       "      <td>elciudadano</td>\n",
       "      <td>https://www.elciudadano.com/medio-ambiente/ale...</td>\n",
       "      <td>Alerta ante inicio de temporada con altas fumi...</td>\n",
       "      <td>Comienza la temporada de aplicaciones con plag...</td>\n",
       "      <td>2021-10-07</td>\n",
       "      <td>contaminación acústica</td>\n",
       "    </tr>\n",
       "  </tbody>\n",
       "</table>\n",
       "<p>88 rows × 8 columns</p>\n",
       "</div>"
      ],
      "text/plain": [
       "       id_news country        media_outlet  \\\n",
       "0   17785718.0   chile                emol   \n",
       "1   22416427.0   chile  laestrelladechiloe   \n",
       "2     261700.0   chile         biobiochile   \n",
       "3   22330373.0   chile        elllanquihue   \n",
       "4   13871464.0   chile                emol   \n",
       "..         ...     ...                 ...   \n",
       "83  22333632.0   chile        elllanquihue   \n",
       "84  22410052.0   chile        elllanquihue   \n",
       "85  21960210.0   chile         elciudadano   \n",
       "86   3839185.0   chile         elmostrador   \n",
       "87  21956059.0   chile         elciudadano   \n",
       "\n",
       "                                                  url  \\\n",
       "0   https://www.emol.com/noticias/Autos/2021/02/24...   \n",
       "1   https://www.laestrellachiloe.cl/impresa/2021/0...   \n",
       "2   https://www.biobiochile.cl/noticias/nacional/r...   \n",
       "3   https://www.ellanquihue.cl/impresa/2021/07/07/...   \n",
       "4   https://www.emol.com/noticias/Nacional/2018/11...   \n",
       "..                                                ...   \n",
       "83  https://www.ellanquihue.cl/impresa/2021/09/08/...   \n",
       "84  https://www.ellanquihue.cl/impresa/2021/04/05/...   \n",
       "85  https://www.elciudadano.com/chile/la-conservac...   \n",
       "86  https://www.elmostrador.cl/cultura/destacados-...   \n",
       "87  https://www.elciudadano.com/medio-ambiente/ale...   \n",
       "\n",
       "                                                title  \\\n",
       "0   Estudio advierte que la contaminación acústica...   \n",
       "1                           La contaminación acústica   \n",
       "2   Justicia ordena al municipio de Concepción fis...   \n",
       "3                              Contaminación acústica   \n",
       "4   Los siete puntos estratégicos de Santiago que ...   \n",
       "..                                                ...   \n",
       "83  Vivir en La Vara: vecinos cuentan conflictos q...   \n",
       "84  En Senda Sur y La Vara presionan para mejorar ...   \n",
       "85  La conservación del agua frente al antropocent...   \n",
       "86  Cuñado de Ricardo Lagos, el personaje detrás d...   \n",
       "87  Alerta ante inicio de temporada con altas fumi...   \n",
       "\n",
       "                                                 text        date  \\\n",
       "0   La prestigiosa revista estadounidense  The Atl...  2021-02-25   \n",
       "1   La contaminación acústica, según la Organizaci...  2021-06-15   \n",
       "2   La Municipalidad de Concepción deberá fiscaliz...  2020-07-02   \n",
       "3   La contaminación acústica, según la Organizaci...  2021-07-07   \n",
       "4   SANTIAGO.- El  Ministerio del Medio Ambiente  ...  2018-11-21   \n",
       "..                                                ...         ...   \n",
       "83  Los habitantes de La Vara están cansados. Se s...  2021-09-08   \n",
       "84  Los ya cotidianos problemas que enfrentan los ...  2021-04-05   \n",
       "85  Por Catalina Vergara (Antropocentrismo: del gr...  2020-12-22   \n",
       "86  Roberto Durán de la Fuente es el director de l...  2020-12-24   \n",
       "87  Comienza la temporada de aplicaciones con plag...  2021-10-07   \n",
       "\n",
       "                    search  \n",
       "0   contaminación acústica  \n",
       "1   contaminación acústica  \n",
       "2   contaminación acústica  \n",
       "3   contaminación acústica  \n",
       "4   contaminación acústica  \n",
       "..                     ...  \n",
       "83  contaminación acústica  \n",
       "84  contaminación acústica  \n",
       "85  contaminación acústica  \n",
       "86  contaminación acústica  \n",
       "87  contaminación acústica  \n",
       "\n",
       "[88 rows x 8 columns]"
      ]
     },
     "execution_count": 1,
     "metadata": {},
     "output_type": "execute_result"
    }
   ],
   "source": [
    "import pandas\n",
    "\n",
    "archivo = \"contaminaciónacústica_chile_2018-01-01_2021-12-31.csv\"\n",
    "\n",
    "dataset = pandas.read_csv(archivo)\n",
    "dataset.drop('Unnamed: 0', axis=1, inplace=True)\n",
    "dataset"
   ]
  },
  {
   "cell_type": "code",
   "execution_count": 2,
   "id": "c338c749",
   "metadata": {},
   "outputs": [
    {
     "data": {
      "text/plain": [
       "'Los siete puntos estratégicos de Santiago que tendrán aparatos para medir la contaminación acústica'"
      ]
     },
     "execution_count": 2,
     "metadata": {},
     "output_type": "execute_result"
    }
   ],
   "source": [
    "dataset[\"title\"][4]"
   ]
  },
  {
   "cell_type": "code",
   "execution_count": 3,
   "id": "d6c1e5c8",
   "metadata": {},
   "outputs": [
    {
     "data": {
      "text/plain": [
       "'La ministra del Medio Ambiente, Carolina Schmidt, presentó hoy la primera Red de Monitoreo de Ruido Ambiental de Chile, que mide en tiempo real y de forma continua la contaminación acústica en siete puntos estratégicos de Santiago. El objetivo de este monitoreo es reducir la contaminación acústica para mejorar la calidad de vida de los habitantes de la capital y aplicar políticas públicas que permitan bajar el ruido. La ministra indicó que \"muchas veces nos acostumbramos al ruido y pensamos que no lo sentimos, es un contaminante invisible, genera estrés, trastornos en el sueño, problemas cardiovasculares, problemas de convivencia y agresividad\". ESTACIONES DE MONITOREO Estos puntos están ubicados en puntos estratégicos de Santiago: San Martín, frente al Ministerio de Medio Ambiente; en la Alameda, frente al edificio del Minvu; en la Municipalidad de Providencia; frente al Juzgado de Policía Local de Ñuñoa; en la Autopista Central, cercanías el Metro Santa Ana; Plaza de Armas y en Maipú. Estos lugares fueron elegidos porque están cercanos a autopistas, avenidas, vías exclusivas, zonas residenciales, calles con adoquines y, en el caso de la Plaza de Armas, por ser un lugar icónico de Santiago con alto tránsito peatonal. Schmidt precisó que la mayor fuente contaminante de ruido es el transporte público, por lo que \"estamos implementando políticas relevantes en el Transantiago\". No obstante, adelantó que la idea de la cartera es extender el funcionamiento de esta red de monitoreo a otras ciudades, como Valparaíso. El principal ruido ambiental de Santiago proviene del transporte vehicular. Todas las personas somos potenciales fuentes de ruido y, por lo tanto, podemos contribuir a disminuir el ruido ambiental a través de consejos prácticos: -No tocar la bocina (sólo en casos de extrema necesidad). -No acelerar innecesariamente. -Mantener el vehículo en buenas condiciones. -No usar tronadores en el tubo de escape. -Usar equipos sonoros a volúmenes moderados, especialmente en la noche. Por favor, inicia sesión en La Tercera para acceder a los comentarios.'"
      ]
     },
     "execution_count": 3,
     "metadata": {},
     "output_type": "execute_result"
    }
   ],
   "source": [
    "dataset[\"text\"][5]"
   ]
  },
  {
   "cell_type": "markdown",
   "id": "3a4a4075",
   "metadata": {},
   "source": [
    "## 2. Librería NLP: spaCy (https://spacy.io/)"
   ]
  },
  {
   "cell_type": "code",
   "execution_count": 11,
   "id": "eff27477",
   "metadata": {},
   "outputs": [],
   "source": [
    "#!pip install spacy\n",
    "#!python -m spacy download es_core_news_md"
   ]
  },
  {
   "cell_type": "code",
   "execution_count": 5,
   "id": "b0d6207b",
   "metadata": {},
   "outputs": [
    {
     "name": "stdout",
     "output_type": "stream",
     "text": [
      "3.2.4\n"
     ]
    }
   ],
   "source": [
    "import spacy\n",
    "\n",
    "print(spacy.__version__)"
   ]
  },
  {
   "cell_type": "code",
   "execution_count": 6,
   "id": "dceade93",
   "metadata": {},
   "outputs": [
    {
     "name": "stderr",
     "output_type": "stream",
     "text": [
      "/home/mvernier/.local/lib/python3.8/site-packages/spacy/util.py:833: UserWarning: [W095] Model 'es_core_news_md' (3.0.0) was trained with spaCy v3.0 and may not be 100% compatible with the current version (3.2.4). If you see errors or degraded performance, download a newer compatible model or retrain your custom model with the current spaCy version. For more details and available updates, run: python -m spacy validate\n",
      "  warnings.warn(warn_msg)\n"
     ]
    }
   ],
   "source": [
    "nlp = spacy.load(\"es_core_news_md\")"
   ]
  },
  {
   "cell_type": "code",
   "execution_count": 7,
   "id": "65d056c0",
   "metadata": {},
   "outputs": [],
   "source": [
    "text=dataset[\"title\"][4]"
   ]
  },
  {
   "cell_type": "code",
   "execution_count": 8,
   "id": "0fa9232e",
   "metadata": {},
   "outputs": [],
   "source": [
    "doc = nlp(text)"
   ]
  },
  {
   "cell_type": "markdown",
   "id": "99fc10b2",
   "metadata": {},
   "source": [
    "- Tokenización, Análisis gramátical, lematización..."
   ]
  },
  {
   "cell_type": "code",
   "execution_count": 9,
   "id": "2c64f182",
   "metadata": {},
   "outputs": [
    {
     "name": "stdout",
     "output_type": "stream",
     "text": [
      "Los el True DET\n",
      "siete siete True NUM\n",
      "puntos punto False NOUN\n",
      "estratégicos estratégico False ADJ\n",
      "de de True ADP\n",
      "Santiago Santiago False PROPN\n",
      "que que True PRON\n",
      "tendrán tener True VERB\n",
      "aparatos aparato False NOUN\n",
      "para para True ADP\n",
      "medir medir False VERB\n",
      "la el True DET\n",
      "contaminación contaminación False NOUN\n",
      "acústica acústico False ADJ\n"
     ]
    }
   ],
   "source": [
    "for token in doc:\n",
    "    print(token.text, token.lemma_,token.is_stop,token.pos_)"
   ]
  },
  {
   "cell_type": "code",
   "execution_count": 10,
   "id": "76ea5818",
   "metadata": {},
   "outputs": [],
   "source": [
    "text=dataset[\"text\"][5]"
   ]
  },
  {
   "cell_type": "markdown",
   "id": "b9d4b480",
   "metadata": {},
   "source": [
    "- Extracción de las Entidades (Personas, Organizaciones, Lugares, etc.)"
   ]
  },
  {
   "cell_type": "code",
   "execution_count": 11,
   "id": "4736c2d2",
   "metadata": {},
   "outputs": [
    {
     "name": "stdout",
     "output_type": "stream",
     "text": [
      "Medio Ambiente 16 30 LOC\n",
      "Carolina Schmidt 32 48 PER\n",
      "Red de Monitoreo 74 90 LOC\n",
      "Ruido Ambiental de Chile 94 118 ORG\n",
      "Santiago 222 230 LOC\n",
      "El objetivo de este monitoreo 232 261 MISC\n",
      "La ministra indicó 421 439 MISC\n",
      "DE MONITOREO Estos puntos 665 690 ORG\n",
      "Santiago 732 740 LOC\n",
      "San Martín 742 752 PER\n",
      "Ministerio de Medio Ambiente 764 792 LOC\n",
      "la Alameda 797 807 LOC\n",
      "Minvu 832 837 LOC\n",
      "Municipalidad de Providencia 845 873 LOC\n",
      "Juzgado de Policía Local de Ñuñoa 885 918 ORG\n",
      "Autopista Central 926 943 LOC\n",
      "Metro Santa Ana 958 973 LOC\n",
      "Plaza de Armas 975 989 LOC\n",
      "Maipú 995 1000 LOC\n",
      "Plaza de Armas 1157 1171 LOC\n",
      "Santiago 1201 1209 LOC\n",
      "Schmidt 1238 1245 PER\n",
      "Transantiago 1383 1395 MISC\n",
      "Valparaíso 1524 1534 LOC\n",
      "El principal ruido ambiental de Santiago 1536 1576 MISC\n",
      "Todas las personas somos potenciales fuentes de ruido 1612 1665 MISC\n",
      "Por favor 2013 2022 MISC\n",
      "La Tercera 2041 2051 MISC\n"
     ]
    }
   ],
   "source": [
    "doc = nlp(text)\n",
    "for ent in doc.ents:\n",
    "    print(ent.text, ent.start_char, ent.end_char, ent.label_)"
   ]
  },
  {
   "cell_type": "code",
   "execution_count": 12,
   "id": "88c99b9b",
   "metadata": {},
   "outputs": [
    {
     "name": "stdout",
     "output_type": "stream",
     "text": [
      "Carolina Schmidt 32 48 PER\n",
      "San Martín 742 752 PER\n"
     ]
    }
   ],
   "source": [
    "for ent in doc.ents:\n",
    "    if(ent.label_ == \"PER\"):\n",
    "        if (\" \" in ent.text):\n",
    "            print(ent.text, ent.start_char, ent.end_char, ent.label_)"
   ]
  },
  {
   "cell_type": "markdown",
   "id": "40180ede",
   "metadata": {},
   "source": [
    "- Extracción de patrones"
   ]
  },
  {
   "cell_type": "code",
   "execution_count": 13,
   "id": "4b1f8e16",
   "metadata": {},
   "outputs": [],
   "source": [
    "from spacy.matcher import Matcher\n",
    "matcher = Matcher(nlp.vocab)"
   ]
  },
  {
   "cell_type": "code",
   "execution_count": 14,
   "id": "59b5265f",
   "metadata": {},
   "outputs": [],
   "source": [
    "# pattern: NOUN-de-NOUN\n",
    "pattern_1 = [{\"POS\": \"NOUN\"},{\"LOWER\": \"de\"}, {\"POS\": \"NOUN\"}]\n",
    "matcher.add(\"NOUN-de-NOUN\", [pattern_1])"
   ]
  },
  {
   "cell_type": "code",
   "execution_count": 15,
   "id": "89045af7",
   "metadata": {},
   "outputs": [],
   "source": [
    "# pattern: NOUN-ADJ\n",
    "pattern_2 = [{\"POS\": \"NOUN\"}, {\"POS\": \"ADJ\"}]\n",
    "matcher.add(\"NOUN-ADJ\", [pattern_2])"
   ]
  },
  {
   "cell_type": "code",
   "execution_count": 16,
   "id": "d2279ce8",
   "metadata": {},
   "outputs": [
    {
     "name": "stdout",
     "output_type": "stream",
     "text": [
      "tiempo real\n",
      "forma continua\n",
      "contaminación acústica\n",
      "puntos estratégicos\n",
      "contaminación acústica\n",
      "calidad de vida\n",
      "políticas públicas\n",
      "contaminante invisible\n",
      "problemas cardiovasculares\n",
      "problemas de convivencia\n",
      "estaciones de monitoreo\n",
      "puntos estratégicos\n",
      "vías exclusivas\n",
      "zonas residenciales\n",
      "lugar icónico\n",
      "tránsito peatonal\n",
      "fuente contaminante\n",
      "transporte público\n",
      "políticas relevantes\n",
      "red de monitoreo\n",
      "ruido ambiental\n",
      "transporte vehicular\n",
      "fuentes de ruido\n",
      "ruido ambiental\n",
      "través de consejos\n",
      "consejos prácticos\n",
      "tubo de escape\n",
      "equipos sonoros\n",
      "volúmenes moderados\n"
     ]
    }
   ],
   "source": [
    "matches = matcher(doc)\n",
    "\n",
    "for match_id, start, end in matches:\n",
    "    #string_id = nlp.vocab.strings[match_id]\n",
    "    span = doc[start:end]  # The matched span\n",
    "    #print(match_id, string_id, start, end, span.text)\n",
    "    print(span.text.lower())"
   ]
  },
  {
   "cell_type": "markdown",
   "id": "1239fb1d",
   "metadata": {},
   "source": [
    "## 3. Utilizar Wikipedia como fuente de datos"
   ]
  },
  {
   "cell_type": "code",
   "execution_count": null,
   "id": "34233afb",
   "metadata": {},
   "outputs": [],
   "source": [
    "#pip install wikipedia"
   ]
  },
  {
   "cell_type": "code",
   "execution_count": 17,
   "id": "cea71a8d",
   "metadata": {},
   "outputs": [],
   "source": [
    "import wikipedia\n",
    "wikipedia.set_lang(\"es\")"
   ]
  },
  {
   "cell_type": "code",
   "execution_count": 18,
   "id": "bc415099",
   "metadata": {},
   "outputs": [
    {
     "name": "stdout",
     "output_type": "stream",
     "text": [
      "['Chile', 'Movistar (Chile)', 'Universidad de Chile', 'Selección de fútbol de Chile', 'Presidente de Chile', 'Club Universidad de Chile', 'Chile Vamos', 'Regiones de Chile', 'Capitanía General de Chile', 'Inmigración en Chile']\n"
     ]
    }
   ],
   "source": [
    "print(wikipedia.search(\"Chile\"))    "
   ]
  },
  {
   "cell_type": "code",
   "execution_count": null,
   "id": "122588b6",
   "metadata": {},
   "outputs": [],
   "source": [
    "page = wikipedia.page(\"Carolina Schmidt\")\n",
    "\n",
    "#print(page.title)\n",
    "#print(page.url)\n",
    "#print(page.content)\n",
    "#print(page.links)"
   ]
  },
  {
   "cell_type": "code",
   "execution_count": 19,
   "id": "493e7915",
   "metadata": {},
   "outputs": [
    {
     "name": "stdout",
     "output_type": "stream",
     "text": [
      "María Carolina Schmidt Zaldívar (Santiago, 9 de septiembre de 1967) es una ingeniera comercial, empresaria y política chilena. Desde agosto de 2018 hasta noviembre de 2021, se desempeñó como ministra del Medio Ambiente bajo el segundo gobierno del presidente Sebastián Piñera.[2]​\n",
      "En el primer gobierno de Piñera ejerció como ministra directora del Servicio Nacional de la Mujer (Sernam), cargo en el que se mantuvo hasta mediados de abril de 2013, cuando se le encargó la cartera de Educación tras la destitución de Harald Beyer.\n"
     ]
    }
   ],
   "source": [
    "print(wikipedia.summary(\"Carolina Schmidt\", sentences=2))"
   ]
  },
  {
   "cell_type": "code",
   "execution_count": null,
   "id": "e16e04d3",
   "metadata": {},
   "outputs": [],
   "source": [
    "#pip install git+https://github.com/Commonists/pageview-api.git"
   ]
  },
  {
   "cell_type": "code",
   "execution_count": 21,
   "id": "4f8a9b17",
   "metadata": {},
   "outputs": [],
   "source": [
    "import pageviewapi"
   ]
  },
  {
   "cell_type": "code",
   "execution_count": 23,
   "id": "6c2da775",
   "metadata": {},
   "outputs": [
    {
     "name": "stdout",
     "output_type": "stream",
     "text": [
      "20220511\n",
      "18\n"
     ]
    }
   ],
   "source": [
    "result=pageviewapi.per_article('es.wikipedia', 'Carolina Schmidt', '20220511', '20220511',\n",
    "                        access='all-access', agent='all-agents', granularity='daily')\n",
    "\n",
    "for item in result.items():\n",
    "    for article in item[1]:\n",
    "        timestamp=article['timestamp'][:8] #first 8 digits\n",
    "        views=article['views']\n",
    "        print(timestamp)\n",
    "        print(views)"
   ]
  },
  {
   "cell_type": "markdown",
   "id": "9236b483",
   "metadata": {},
   "source": [
    "## 4. Utilizar modelos de redes neuronales Transformers para Question-Answering"
   ]
  },
  {
   "cell_type": "code",
   "execution_count": 28,
   "id": "468149ec",
   "metadata": {},
   "outputs": [],
   "source": [
    "text=wikipedia.summary(\"Carolina Schmidt\", sentences=2)"
   ]
  },
  {
   "cell_type": "code",
   "execution_count": 24,
   "id": "70a1596f",
   "metadata": {},
   "outputs": [],
   "source": [
    "from transformers import AutoModelForQuestionAnswering, AutoTokenizer\n",
    "from transformers import pipeline"
   ]
  },
  {
   "cell_type": "code",
   "execution_count": 26,
   "id": "934facb6",
   "metadata": {},
   "outputs": [],
   "source": [
    "ES_MODEL_LANGUAGE=\"mrm8488/bert-base-spanish-wwm-cased-finetuned-spa-squad2-es\"\n",
    "\n",
    "tokenizer_es_language = AutoTokenizer.from_pretrained(ES_MODEL_LANGUAGE)\n",
    "model_es_language = AutoModelForQuestionAnswering.from_pretrained(ES_MODEL_LANGUAGE)"
   ]
  },
  {
   "cell_type": "code",
   "execution_count": 27,
   "id": "6650b81d",
   "metadata": {},
   "outputs": [],
   "source": [
    "q_a_es = pipeline(\"question-answering\", model=model_es_language, tokenizer=tokenizer_es_language)"
   ]
  },
  {
   "cell_type": "code",
   "execution_count": 31,
   "id": "7ebddd85",
   "metadata": {},
   "outputs": [
    {
     "data": {
      "text/plain": [
       "'1967'"
      ]
     },
     "execution_count": 31,
     "metadata": {},
     "output_type": "execute_result"
    }
   ],
   "source": [
    "result = q_a_es(question=\"¿En qué año nació el o ella?\", context=text)\n",
    "result[\"answer\"]"
   ]
  },
  {
   "cell_type": "code",
   "execution_count": 32,
   "id": "fc3886ae",
   "metadata": {},
   "outputs": [
    {
     "data": {
      "text/plain": [
       "'ingeniera comercial, empresaria y política chilena'"
      ]
     },
     "execution_count": 32,
     "metadata": {},
     "output_type": "execute_result"
    }
   ],
   "source": [
    "result = q_a_es(question=\"¿Cuál es su profesión?\", context=text)\n",
    "result[\"answer\"]"
   ]
  },
  {
   "cell_type": "code",
   "execution_count": null,
   "id": "f3fc4cf1",
   "metadata": {},
   "outputs": [],
   "source": []
  }
 ],
 "metadata": {
  "kernelspec": {
   "display_name": "Python 3 (ipykernel)",
   "language": "python",
   "name": "python3"
  },
  "language_info": {
   "codemirror_mode": {
    "name": "ipython",
    "version": 3
   },
   "file_extension": ".py",
   "mimetype": "text/x-python",
   "name": "python",
   "nbconvert_exporter": "python",
   "pygments_lexer": "ipython3",
   "version": "3.8.10"
  }
 },
 "nbformat": 4,
 "nbformat_minor": 5
}
