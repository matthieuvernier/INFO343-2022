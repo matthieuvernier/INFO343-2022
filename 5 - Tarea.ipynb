{
 "cells": [
  {
   "cell_type": "markdown",
   "id": "22200ba6",
   "metadata": {},
   "source": [
    "# Tarea\n",
    "\n"
   ]
  },
  {
   "cell_type": "markdown",
   "id": "cbb83da4",
   "metadata": {},
   "source": [
    "## 1- Construir un dataset de noticias que hablan de una problemática territorial\n",
    "\n",
    "Por ejemplo: \"desarrollo turístico\", \"violencia de género\", \"tráfico de drogas\", etc.\n",
    "\n"
   ]
  },
  {
   "cell_type": "markdown",
   "id": "8625773d",
   "metadata": {},
   "source": [
    "## 2- Proponer un método, basado en el análisis de gráfos y análisis de textos, para analizar la problemática territorial\n",
    "\n",
    "Deberán definir qué representan:\n",
    "- los **nodos**: noticias, personas, comunas, medios de prensa, palabras claves, etc.\n",
    "- las **aristas**: co-ocurencia en la misma noticia, comparten un mismo metadato (por ejemplo \"profesión\", \"nacionalidad\"), etc. \n",
    "\n",
    "\n",
    "Por ejemplo, podemos estar interesado en analizar cuáles son las noticias (nodos) y si comparten conceptos claves comunes (aristas). Un análisis de gráfos nos permitirá identificar las comunidades (cliques) de noticias que hablan un poco de lo mismo y las noticias más aisladas."
   ]
  },
  {
   "cell_type": "code",
   "execution_count": null,
   "id": "a7fd4708",
   "metadata": {},
   "outputs": [],
   "source": []
  }
 ],
 "metadata": {
  "kernelspec": {
   "display_name": "Python 3 (ipykernel)",
   "language": "python",
   "name": "python3"
  },
  "language_info": {
   "codemirror_mode": {
    "name": "ipython",
    "version": 3
   },
   "file_extension": ".py",
   "mimetype": "text/x-python",
   "name": "python",
   "nbconvert_exporter": "python",
   "pygments_lexer": "ipython3",
   "version": "3.8.10"
  }
 },
 "nbformat": 4,
 "nbformat_minor": 5
}
