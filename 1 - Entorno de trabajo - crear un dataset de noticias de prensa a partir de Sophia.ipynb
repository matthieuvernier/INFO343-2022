{
 "cells": [
  {
   "cell_type": "markdown",
   "id": "00bc0c0a",
   "metadata": {},
   "source": [
    "# Entorno de trabajo: Crear un dataset de noticias de prensa a partir del motor de búsqueda Sophia"
   ]
  },
  {
   "cell_type": "markdown",
   "id": "dc35efc7",
   "metadata": {},
   "source": [
    "Este notebook muestra una manera de extraer noticias desde el motor de búsqueda de _Sophia_, a partir de una **palabra clave**, un **país** y un **periodo de tiempo**.\n",
    "\n",
    "\n",
    "_Sophia_ es un proyecto I+i+D desarrollado en la Universidad Austral de Chile desde 2019. El motor de búsqueda se encuentra en fase de mejoramiento continuo. Por cualquier pregunta o problema técnica con este notebook, no dudar en contactarme por Discord (@MatthieuVernier) o por correo mvernier@inf.uach.cl."
   ]
  },
  {
   "cell_type": "markdown",
   "id": "b60b79ff",
   "metadata": {},
   "source": [
    "## 0. Librerías útiles"
   ]
  },
  {
   "cell_type": "markdown",
   "id": "0284eded",
   "metadata": {},
   "source": [
    "- Elasticsearch es el motor de búsqueda utilizado por Sophia\n",
    "- Requiere la instalación del paquete elasticsearch"
   ]
  },
  {
   "cell_type": "code",
   "execution_count": 3,
   "id": "0420b9c3",
   "metadata": {},
   "outputs": [],
   "source": [
    "#!pip install elasticsearch"
   ]
  },
  {
   "cell_type": "code",
   "execution_count": 35,
   "id": "8e32dfe6",
   "metadata": {},
   "outputs": [],
   "source": [
    "from elasticsearch import Elasticsearch\n",
    "from datetime import datetime"
   ]
  },
  {
   "cell_type": "markdown",
   "id": "05a9c8c7",
   "metadata": {},
   "source": [
    "## 1. Parámetros de la búsqueda"
   ]
  },
  {
   "cell_type": "markdown",
   "id": "64de7603",
   "metadata": {},
   "source": [
    "Características del motor de búsqueda:  \n",
    "- El formato de las fechas es: YYYY-MM-DD\n",
    "- El motor de búsqueda incluye noticias por distintos paises, pero se recomienda utilizar \"chile\" por el momento.\n",
    "- El motor de búsqueda incluye datos entre el año 2000 y el año 2021."
   ]
  },
  {
   "cell_type": "code",
   "execution_count": 41,
   "id": "ce408e4d",
   "metadata": {},
   "outputs": [],
   "source": [
    "country=\"chile\"\n",
    "from_=\"2018-01-01\"\n",
    "to_=\"2021-12-31\"\n",
    "\n",
    "keyword=\"contaminación ambiental\"\n",
    "simple_keyword=False"
   ]
  },
  {
   "cell_type": "markdown",
   "id": "6efe0b5a",
   "metadata": {},
   "source": [
    "## 2. Parámetros de conexión al motor de búsqueda de Sophia"
   ]
  },
  {
   "cell_type": "markdown",
   "id": "a9690f2a",
   "metadata": {},
   "source": [
    "Por el momento, Sophia está accesible a través de una IP que se actualiza cada día y proximamente estará disponible en el url https://search.sophia2.org. \n",
    "No duden en pedir la IP a través de Discord si desean utilizar Sophia..."
   ]
  },
  {
   "cell_type": "code",
   "execution_count": 42,
   "id": "7acec13c",
   "metadata": {},
   "outputs": [],
   "source": [
    "IP = \"66.228.46.234\"\n",
    "PORT = 9200\n",
    "USER= \"elastic\"\n",
    "PASS= \"uZCxWGE35lD3lhc\""
   ]
  },
  {
   "cell_type": "code",
   "execution_count": 43,
   "id": "621d9af0",
   "metadata": {},
   "outputs": [],
   "source": [
    "#NO MODIFICAR\n",
    "\n",
    "es = Elasticsearch(\n",
    "    IP,\n",
    "    port=PORT,\n",
    "    http_auth=(USER, PASS)\n",
    ")"
   ]
  },
  {
   "cell_type": "markdown",
   "id": "440d3027",
   "metadata": {},
   "source": [
    "## 3. Búsqueda de noticias de prensa"
   ]
  },
  {
   "cell_type": "markdown",
   "id": "baeb2ceb",
   "metadata": {},
   "source": [
    "- Preparación de la consulta en el formato solicitado por Elasticsearch"
   ]
  },
  {
   "cell_type": "code",
   "execution_count": 44,
   "id": "7fdb0b5e",
   "metadata": {},
   "outputs": [],
   "source": [
    "#NO MODIFICAR\n",
    "match=\"\"\n",
    "if (simple_keyword):\n",
    "    match=\"match\"\n",
    "else:\n",
    "    match=\"match_phrase\"\n",
    "\n",
    "query = { \n",
    "    \"bool\": { \n",
    "      \"must\": [\n",
    "        {match: { \"text\":keyword}}\n",
    "\n",
    "      ],\n",
    "    \"filter\": [\n",
    "        {\"range\": {\n",
    "      \"date\": {\n",
    "        \"gte\": from_,\n",
    "        \"lt\": to_\n",
    "      }}},\n",
    "        { \"term\":  { \"country\": country }} \n",
    "    ]\n",
    "    }  \n",
    "}"
   ]
  },
  {
   "cell_type": "markdown",
   "id": "025f7b7c",
   "metadata": {},
   "source": [
    "- Envio de la consulta\n",
    "- No se puede devolver más de 10.000 noticias. En caso de obtener 10.000 respuestas, se recomienda buscar en un periodo de tiempo más corto o modificar la consulta."
   ]
  },
  {
   "cell_type": "code",
   "execution_count": 45,
   "id": "75593058",
   "metadata": {},
   "outputs": [
    {
     "name": "stdout",
     "output_type": "stream",
     "text": [
      "Son 524 noticias encontradas...\n"
     ]
    }
   ],
   "source": [
    "res = es.search(index=\"news\", query=query, size=10000)\n",
    "print(\"Son %d noticias encontradas...\" % res['hits']['total']['value'])"
   ]
  },
  {
   "cell_type": "markdown",
   "id": "84d3ebba",
   "metadata": {},
   "source": [
    "## 4. Guardar los datos en un dataframe Pandas y en un archivo CSV"
   ]
  },
  {
   "cell_type": "code",
   "execution_count": 46,
   "id": "c40a60d6",
   "metadata": {},
   "outputs": [
    {
     "data": {
      "text/html": [
       "<div>\n",
       "<style scoped>\n",
       "    .dataframe tbody tr th:only-of-type {\n",
       "        vertical-align: middle;\n",
       "    }\n",
       "\n",
       "    .dataframe tbody tr th {\n",
       "        vertical-align: top;\n",
       "    }\n",
       "\n",
       "    .dataframe thead th {\n",
       "        text-align: right;\n",
       "    }\n",
       "</style>\n",
       "<table border=\"1\" class=\"dataframe\">\n",
       "  <thead>\n",
       "    <tr style=\"text-align: right;\">\n",
       "      <th></th>\n",
       "      <th>id_news</th>\n",
       "      <th>country</th>\n",
       "      <th>media_outlet</th>\n",
       "      <th>url</th>\n",
       "      <th>title</th>\n",
       "      <th>text</th>\n",
       "      <th>date</th>\n",
       "      <th>search</th>\n",
       "    </tr>\n",
       "  </thead>\n",
       "  <tbody>\n",
       "    <tr>\n",
       "      <th>0</th>\n",
       "      <td>21883133.0</td>\n",
       "      <td>chile</td>\n",
       "      <td>biobiochile</td>\n",
       "      <td>https://www.biobiochile.cl/noticias/nacional/r...</td>\n",
       "      <td>Vecinos de Valdivia acusan nula respuesta tras...</td>\n",
       "      <td>Vecinos del barrio El Bosque de Valdivia esper...</td>\n",
       "      <td>2021-10-23</td>\n",
       "      <td>contaminación ambiental</td>\n",
       "    </tr>\n",
       "    <tr>\n",
       "      <th>1</th>\n",
       "      <td>21938703.0</td>\n",
       "      <td>chile</td>\n",
       "      <td>biobiochile</td>\n",
       "      <td>https://www.biobiochile.cl/noticias/nacional/r...</td>\n",
       "      <td>Los Lagos: advierten que mala calidad de aire ...</td>\n",
       "      <td>Desde el departamento de Epidemiología de la s...</td>\n",
       "      <td>2021-06-22</td>\n",
       "      <td>contaminación ambiental</td>\n",
       "    </tr>\n",
       "    <tr>\n",
       "      <th>2</th>\n",
       "      <td>367985.0</td>\n",
       "      <td>chile</td>\n",
       "      <td>horas24</td>\n",
       "      <td>https://www.24horas.cl/nacional/decretan-alert...</td>\n",
       "      <td>Decretan Alerta Amarilla para Quintero y Puchu...</td>\n",
       "      <td>Dado el nuevo episodio de contaminación ambien...</td>\n",
       "      <td>2018-08-23</td>\n",
       "      <td>contaminación ambiental</td>\n",
       "    </tr>\n",
       "    <tr>\n",
       "      <th>3</th>\n",
       "      <td>5198643.0</td>\n",
       "      <td>chile</td>\n",
       "      <td>ahoranoticiasmega</td>\n",
       "      <td>https://www.meganoticias.cl/nacional/265471-co...</td>\n",
       "      <td>Toxicólogo llama a no realizar deporte en epis...</td>\n",
       "      <td>Los informes son lapidarios. Según la Organiza...</td>\n",
       "      <td>2019-06-20</td>\n",
       "      <td>contaminación ambiental</td>\n",
       "    </tr>\n",
       "    <tr>\n",
       "      <th>4</th>\n",
       "      <td>353090.0</td>\n",
       "      <td>chile</td>\n",
       "      <td>biobiochile</td>\n",
       "      <td>https://www.biobiochile.cl/noticias/nacional/r...</td>\n",
       "      <td>La Araucanía: investigadores mapuches e INDH o...</td>\n",
       "      <td>Investigadores mapuches ofician a través del I...</td>\n",
       "      <td>2020-04-05</td>\n",
       "      <td>contaminación ambiental</td>\n",
       "    </tr>\n",
       "    <tr>\n",
       "      <th>...</th>\n",
       "      <td>...</td>\n",
       "      <td>...</td>\n",
       "      <td>...</td>\n",
       "      <td>...</td>\n",
       "      <td>...</td>\n",
       "      <td>...</td>\n",
       "      <td>...</td>\n",
       "      <td>...</td>\n",
       "    </tr>\n",
       "    <tr>\n",
       "      <th>519</th>\n",
       "      <td>5162242.0</td>\n",
       "      <td>chile</td>\n",
       "      <td>elciudadano</td>\n",
       "      <td>https://www.elciudadano.com/medio-ambiente/min...</td>\n",
       "      <td>Minera BioLantánidos: El proyecto de extracció...</td>\n",
       "      <td>El proyecto de la minera BioLantánidos se pres...</td>\n",
       "      <td>2020-10-08</td>\n",
       "      <td>contaminación ambiental</td>\n",
       "    </tr>\n",
       "    <tr>\n",
       "      <th>520</th>\n",
       "      <td>21958809.0</td>\n",
       "      <td>chile</td>\n",
       "      <td>elciudadano</td>\n",
       "      <td>https://www.elciudadano.com/mexico/2021-atoyac...</td>\n",
       "      <td>2021: Atoyac y el ecocidio que no se detiene</td>\n",
       "      <td>La polución de la cuenca Atoyac-Zahuapan, cons...</td>\n",
       "      <td>2021-04-23</td>\n",
       "      <td>contaminación ambiental</td>\n",
       "    </tr>\n",
       "    <tr>\n",
       "      <th>521</th>\n",
       "      <td>5172828.0</td>\n",
       "      <td>chile</td>\n",
       "      <td>elciudadano</td>\n",
       "      <td>https://www.elciudadano.com/medio-ambiente/pro...</td>\n",
       "      <td>Proyecto Vizcachitas, el ecocidio minero que f...</td>\n",
       "      <td>Por Francisco Marín Castro La reciente aprobac...</td>\n",
       "      <td>2020-06-08</td>\n",
       "      <td>contaminación ambiental</td>\n",
       "    </tr>\n",
       "    <tr>\n",
       "      <th>522</th>\n",
       "      <td>6208561.0</td>\n",
       "      <td>chile</td>\n",
       "      <td>latercera</td>\n",
       "      <td>https://www.latercera.com/tendencias/noticia/r...</td>\n",
       "      <td>Raúl Sohr: “El desabastecimiento de agua puede...</td>\n",
       "      <td>El periodista Raúl Sohr está camiseteado con l...</td>\n",
       "      <td>2020-10-30</td>\n",
       "      <td>contaminación ambiental</td>\n",
       "    </tr>\n",
       "    <tr>\n",
       "      <th>523</th>\n",
       "      <td>6244966.0</td>\n",
       "      <td>chile</td>\n",
       "      <td>elciudadano</td>\n",
       "      <td>https://www.elciudadano.com/portada/reporte-es...</td>\n",
       "      <td>Reporte Especial: Grandes mineras son principa...</td>\n",
       "      <td>Francisca Valencia Desde los distintos sectore...</td>\n",
       "      <td>2020-07-06</td>\n",
       "      <td>contaminación ambiental</td>\n",
       "    </tr>\n",
       "  </tbody>\n",
       "</table>\n",
       "<p>524 rows × 8 columns</p>\n",
       "</div>"
      ],
      "text/plain": [
       "        id_news country       media_outlet  \\\n",
       "0    21883133.0   chile        biobiochile   \n",
       "1    21938703.0   chile        biobiochile   \n",
       "2      367985.0   chile            horas24   \n",
       "3     5198643.0   chile  ahoranoticiasmega   \n",
       "4      353090.0   chile        biobiochile   \n",
       "..          ...     ...                ...   \n",
       "519   5162242.0   chile        elciudadano   \n",
       "520  21958809.0   chile        elciudadano   \n",
       "521   5172828.0   chile        elciudadano   \n",
       "522   6208561.0   chile          latercera   \n",
       "523   6244966.0   chile        elciudadano   \n",
       "\n",
       "                                                   url  \\\n",
       "0    https://www.biobiochile.cl/noticias/nacional/r...   \n",
       "1    https://www.biobiochile.cl/noticias/nacional/r...   \n",
       "2    https://www.24horas.cl/nacional/decretan-alert...   \n",
       "3    https://www.meganoticias.cl/nacional/265471-co...   \n",
       "4    https://www.biobiochile.cl/noticias/nacional/r...   \n",
       "..                                                 ...   \n",
       "519  https://www.elciudadano.com/medio-ambiente/min...   \n",
       "520  https://www.elciudadano.com/mexico/2021-atoyac...   \n",
       "521  https://www.elciudadano.com/medio-ambiente/pro...   \n",
       "522  https://www.latercera.com/tendencias/noticia/r...   \n",
       "523  https://www.elciudadano.com/portada/reporte-es...   \n",
       "\n",
       "                                                 title  \\\n",
       "0    Vecinos de Valdivia acusan nula respuesta tras...   \n",
       "1    Los Lagos: advierten que mala calidad de aire ...   \n",
       "2    Decretan Alerta Amarilla para Quintero y Puchu...   \n",
       "3    Toxicólogo llama a no realizar deporte en epis...   \n",
       "4    La Araucanía: investigadores mapuches e INDH o...   \n",
       "..                                                 ...   \n",
       "519  Minera BioLantánidos: El proyecto de extracció...   \n",
       "520       2021: Atoyac y el ecocidio que no se detiene   \n",
       "521  Proyecto Vizcachitas, el ecocidio minero que f...   \n",
       "522  Raúl Sohr: “El desabastecimiento de agua puede...   \n",
       "523  Reporte Especial: Grandes mineras son principa...   \n",
       "\n",
       "                                                  text        date  \\\n",
       "0    Vecinos del barrio El Bosque de Valdivia esper...  2021-10-23   \n",
       "1    Desde el departamento de Epidemiología de la s...  2021-06-22   \n",
       "2    Dado el nuevo episodio de contaminación ambien...  2018-08-23   \n",
       "3    Los informes son lapidarios. Según la Organiza...  2019-06-20   \n",
       "4    Investigadores mapuches ofician a través del I...  2020-04-05   \n",
       "..                                                 ...         ...   \n",
       "519  El proyecto de la minera BioLantánidos se pres...  2020-10-08   \n",
       "520  La polución de la cuenca Atoyac-Zahuapan, cons...  2021-04-23   \n",
       "521  Por Francisco Marín Castro La reciente aprobac...  2020-06-08   \n",
       "522  El periodista Raúl Sohr está camiseteado con l...  2020-10-30   \n",
       "523  Francisca Valencia Desde los distintos sectore...  2020-07-06   \n",
       "\n",
       "                      search  \n",
       "0    contaminación ambiental  \n",
       "1    contaminación ambiental  \n",
       "2    contaminación ambiental  \n",
       "3    contaminación ambiental  \n",
       "4    contaminación ambiental  \n",
       "..                       ...  \n",
       "519  contaminación ambiental  \n",
       "520  contaminación ambiental  \n",
       "521  contaminación ambiental  \n",
       "522  contaminación ambiental  \n",
       "523  contaminación ambiental  \n",
       "\n",
       "[524 rows x 8 columns]"
      ]
     },
     "execution_count": 46,
     "metadata": {},
     "output_type": "execute_result"
    }
   ],
   "source": [
    "import pandas as pd\n",
    "\n",
    "data = {'id_news':[],'country':[],'media_outlet':[],'url':[],'title':[],'text':[],'date':[],'search':[]}\n",
    "\n",
    "df = pd.DataFrame(data)  \n",
    "  \n",
    "for hit in res['hits']['hits']:\n",
    "    id_news = hit['_source']['id_news']\n",
    "    country = hit['_source']['country']\n",
    "    media_outlet = hit['_source']['media_outlet']\n",
    "    url = hit['_source']['url']\n",
    "    title = hit['_source']['title']\n",
    "    text = hit['_source']['text']\n",
    "    date = hit['_source']['date']\n",
    "    search = keyword\n",
    "    \n",
    "    new_row = {'id_news':id_news, 'country':country, 'media_outlet':media_outlet, 'url':url, 'title':title, 'text':text, 'date':date, 'search':search}\n",
    "    \n",
    "    df = df.append(new_row, ignore_index=True)\n",
    "\n",
    "df"
   ]
  },
  {
   "cell_type": "markdown",
   "id": "ff4b15bf",
   "metadata": {},
   "source": [
    "- Verifiquemos si existen noticias con la misma URL"
   ]
  },
  {
   "cell_type": "code",
   "execution_count": 47,
   "id": "1cc732ad",
   "metadata": {},
   "outputs": [
    {
     "data": {
      "text/plain": [
       "False"
      ]
     },
     "execution_count": 47,
     "metadata": {},
     "output_type": "execute_result"
    }
   ],
   "source": [
    "df['url'].duplicated().any()"
   ]
  },
  {
   "cell_type": "markdown",
   "id": "8e7424a0",
   "metadata": {},
   "source": [
    "- Eliminar las noticias duplicadas"
   ]
  },
  {
   "cell_type": "code",
   "execution_count": 48,
   "id": "a2251d2c",
   "metadata": {},
   "outputs": [],
   "source": [
    "df = df.drop_duplicates(subset='url', keep='first')"
   ]
  },
  {
   "cell_type": "markdown",
   "id": "0b2faf53",
   "metadata": {},
   "source": [
    "- Guardar los archivos en un CSV"
   ]
  },
  {
   "cell_type": "code",
   "execution_count": 49,
   "id": "b1371e58",
   "metadata": {},
   "outputs": [
    {
     "name": "stdout",
     "output_type": "stream",
     "text": [
      "El archivo se llama:\n",
      "contaminaciónambiental_chile_2018-01-01_2021-12-31.csv\n"
     ]
    }
   ],
   "source": [
    "nombre_archivo=keyword.replace(' ', '')+\"_\"+country+\"_\"+from_+\"_\"+to_+\".csv\"\n",
    "print(\"El archivo se llama:\")\n",
    "print(nombre_archivo)\n",
    "df.to_csv(\"./\"+nombre_archivo)"
   ]
  },
  {
   "cell_type": "code",
   "execution_count": null,
   "id": "73fc1916",
   "metadata": {},
   "outputs": [],
   "source": []
  }
 ],
 "metadata": {
  "kernelspec": {
   "display_name": "Python 3 (ipykernel)",
   "language": "python",
   "name": "python3"
  },
  "language_info": {
   "codemirror_mode": {
    "name": "ipython",
    "version": 3
   },
   "file_extension": ".py",
   "mimetype": "text/x-python",
   "name": "python",
   "nbconvert_exporter": "python",
   "pygments_lexer": "ipython3",
   "version": "3.8.10"
  }
 },
 "nbformat": 4,
 "nbformat_minor": 5
}
